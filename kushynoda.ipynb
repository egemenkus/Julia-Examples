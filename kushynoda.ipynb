{
 "cells": [
  {
   "cell_type": "code",
   "execution_count": 10,
   "id": "33cc0c26",
   "metadata": {},
   "outputs": [
    {
     "name": "stdout",
     "output_type": "stream",
     "text": [
      "Hello worldMerhaba dünyaMerhaba dünyaMerhaba dünyaMerhaba dünya"
     ]
    }
   ],
   "source": [
    "print(\"Hello world\")\n",
    "print(\"Merhaba dünya\")\n",
    "print(\"Merhaba dünya\")\n",
    "print(\"Merhaba dünya\")\n",
    "print(\"Merhaba dünya\")"
   ]
  },
  {
   "cell_type": "code",
   "execution_count": null,
   "id": "fd3e1170",
   "metadata": {},
   "outputs": [],
   "source": []
  }
 ],
 "metadata": {
  "kernelspec": {
   "display_name": "Julia 1.7.1",
   "language": "julia",
   "name": "julia-1.7"
  },
  "language_info": {
   "file_extension": ".jl",
   "mimetype": "application/julia",
   "name": "julia",
   "version": "1.7.1"
  }
 },
 "nbformat": 4,
 "nbformat_minor": 5
}
