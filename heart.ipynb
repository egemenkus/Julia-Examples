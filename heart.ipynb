{
 "cells": [
  {
   "cell_type": "code",
   "execution_count": null,
   "metadata": {},
   "outputs": [],
   "source": [
    "using Pkg\n",
    "Pkg.add(\"Plots\")\n",
    "using Plots\n",
    "@userplot CirclePlot\n",
    "@recipe function f(cp::CirclePlot)\n",
    "    x, y, i = cp.args\n",
    "    n = length(x)\n",
    "    inds = circshift(1:n, 1 - i)\n",
    "    linewidth --> range(0, 10, length = n)\n",
    "    seriesalpha --> range(0, 1, length = n)\n",
    "    aspect_ratio --> 1\n",
    "    label --> false\n",
    "    x[inds], y[inds]\n",
    "end\n",
    "n = 400\n",
    "t = range(0, 2π, length = n)\n",
    "x = 16sin.(t).^3\n",
    "y = 13cos.(t) .- 5cos.(2t) .- 2cos.(3t) .- cos.(4t)\n",
    "\n",
    "@gif for i ∈ 1:n\n",
    "    circleplot(x, y, i, line_z = 1:n, cbar = false, c = :reds, framestyle = :none)\n",
    "end when i > 40 && mod1(i, 10) == 5"
   ]
  }
 ],
 "metadata": {
  "language_info": {
   "name": "python"
  },
  "orig_nbformat": 4
 },
 "nbformat": 4,
 "nbformat_minor": 2
}
